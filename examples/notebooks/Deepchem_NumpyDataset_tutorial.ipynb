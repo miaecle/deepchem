{
 "cells": [
  {
   "cell_type": "markdown",
   "metadata": {},
   "source": [
    "# Using Deepchem Datasets\n",
    "In this tutorial we will have a look at various deepchem `dataset` methods present in `deepchem.datasets`."
   ]
  },
  {
   "cell_type": "code",
   "execution_count": 1,
   "metadata": {},
   "outputs": [
    {
     "name": "stderr",
     "output_type": "stream",
     "text": [
      "/home/skand/anaconda2/lib/python2.7/site-packages/h5py/__init__.py:36: FutureWarning: Conversion of the second argument of issubdtype from `float` to `np.floating` is deprecated. In future, it will be treated as `np.float64 == np.dtype(float).type`.\n",
      "  from ._conv import register_converters as _register_converters\n"
     ]
    }
   ],
   "source": [
    "import deepchem as dc\n",
    "import numpy as np\n",
    "import random\n"
   ]
  },
  {
   "cell_type": "markdown",
   "metadata": {},
   "source": [
    "# Using NumpyDatasets \n",
    "This is used when you have your data in numpy arrays."
   ]
  },
  {
   "cell_type": "code",
   "execution_count": 2,
   "metadata": {},
   "outputs": [],
   "source": [
    "# data is your dataset in numpy array of size : 20x20.\n",
    "data = np.random.random((4, 4))\n",
    "labels = np.random.random((4,)) # labels of size 20x1\n"
   ]
  },
  {
   "cell_type": "code",
   "execution_count": 3,
   "metadata": {},
   "outputs": [],
   "source": [
    "from deepchem.data.datasets import NumpyDataset # import NumpyDataset"
   ]
  },
  {
   "cell_type": "code",
   "execution_count": 4,
   "metadata": {},
   "outputs": [],
   "source": [
    "dataset = NumpyDataset(data, labels) # creates numpy dataset object"
   ]
  },
  {
   "cell_type": "markdown",
   "metadata": {},
   "source": [
    "## Extracting X, y from NumpyDataset Object\n",
    "Extracting the data and labels from the NumpyDataset is very easy. "
   ]
  },
  {
   "cell_type": "code",
   "execution_count": 5,
   "metadata": {},
   "outputs": [
    {
     "data": {
      "text/plain": [
       "array([[0.63188616, 0.24690483, 0.85294168, 0.15512774],\n",
       "       [0.62009111, 0.00525149, 0.56082693, 0.0649767 ],\n",
       "       [0.57476389, 0.92047762, 0.36311505, 0.53421993],\n",
       "       [0.5768823 , 0.51945064, 0.9655427 , 0.82099216]])"
      ]
     },
     "execution_count": 5,
     "metadata": {},
     "output_type": "execute_result"
    }
   ],
   "source": [
    "dataset.X # Extracts the data (X) from the NumpyDataset Object\n"
   ]
  },
  {
   "cell_type": "code",
   "execution_count": 6,
   "metadata": {},
   "outputs": [
    {
     "data": {
      "text/plain": [
       "array([[0.5102078 ],\n",
       "       [0.76199464],\n",
       "       [0.77398379],\n",
       "       [0.09498917]])"
      ]
     },
     "execution_count": 6,
     "metadata": {},
     "output_type": "execute_result"
    }
   ],
   "source": [
    "dataset.y # Extracts the labels (y) from the NumpyDataset Object"
   ]
  },
  {
   "cell_type": "markdown",
   "metadata": {},
   "source": [
    "## Weights of a dataset - w\n",
    "So apart from `X` and `y` which are the data and the labels, you can also assign weights `w` to each data instance. The dimension of `w` is same as that of `y`(which is Nx1 where N is the number of data instances).\n",
    "\n",
    "**NOTE:** By default `w` is a vector initialized with equal weights (all being 1). "
   ]
  },
  {
   "cell_type": "code",
   "execution_count": 7,
   "metadata": {},
   "outputs": [
    {
     "data": {
      "text/plain": [
       "array([[1.],\n",
       "       [1.],\n",
       "       [1.],\n",
       "       [1.]])"
      ]
     },
     "execution_count": 7,
     "metadata": {},
     "output_type": "execute_result"
    }
   ],
   "source": [
    "dataset.w # printing the weights that are assigned by default. Notice that they are a vector of 1's"
   ]
  },
  {
   "cell_type": "code",
   "execution_count": 8,
   "metadata": {},
   "outputs": [],
   "source": [
    "w = np.random.random((4,)) # initializing weights with random vector of size 20x1\n",
    "dataset_with_weights = NumpyDataset(data, labels, w) # creates numpy dataset object"
   ]
  },
  {
   "cell_type": "code",
   "execution_count": 9,
   "metadata": {},
   "outputs": [
    {
     "data": {
      "text/plain": [
       "array([[0.85432113],\n",
       "       [0.91847254],\n",
       "       [0.59774769],\n",
       "       [0.36659207]])"
      ]
     },
     "execution_count": 9,
     "metadata": {},
     "output_type": "execute_result"
    }
   ],
   "source": [
    "dataset_with_weights.w"
   ]
  },
  {
   "cell_type": "markdown",
   "metadata": {},
   "source": [
    "## Iterating over NumpyDataset\n",
    "In order to iterate over NumpyDataset, we use `itersamples` method. We iterate over 4 quantities, namely `X`, `y`, `w` and `ids`. The first three quantities are the same as discussed above and `ids` is the id of the data instance. By default the id is given in order starting from `1`"
   ]
  },
  {
   "cell_type": "code",
   "execution_count": 10,
   "metadata": {},
   "outputs": [
    {
     "name": "stdout",
     "output_type": "stream",
     "text": [
      "(array([0.63188616, 0.24690483, 0.85294168, 0.15512774]), array([0.5102078]), array([1.]), 0)\n",
      "(array([0.62009111, 0.00525149, 0.56082693, 0.0649767 ]), array([0.76199464]), array([1.]), 1)\n",
      "(array([0.57476389, 0.92047762, 0.36311505, 0.53421993]), array([0.77398379]), array([1.]), 2)\n",
      "(array([0.5768823 , 0.51945064, 0.9655427 , 0.82099216]), array([0.09498917]), array([1.]), 3)\n"
     ]
    }
   ],
   "source": [
    "for x, y, w, id in dataset.itersamples():\n",
    "    print(x, y, w, id)"
   ]
  },
  {
   "cell_type": "markdown",
   "metadata": {},
   "source": [
    "You can also extract the ids by `dataset.ids`. This would return a numpy array consisting of the ids of the data instances."
   ]
  },
  {
   "cell_type": "code",
   "execution_count": 11,
   "metadata": {},
   "outputs": [
    {
     "data": {
      "text/plain": [
       "array([0, 1, 2, 3], dtype=object)"
      ]
     },
     "execution_count": 11,
     "metadata": {},
     "output_type": "execute_result"
    }
   ],
   "source": [
    "dataset.ids"
   ]
  },
  {
   "cell_type": "markdown",
   "metadata": {},
   "source": [
    "## MNIST Example\n",
    "Just to get a better understanding, lets take read MNIST data and use `NumpyDataset` to store the data. "
   ]
  },
  {
   "cell_type": "code",
   "execution_count": 12,
   "metadata": {},
   "outputs": [],
   "source": [
    "from tensorflow.examples.tutorials.mnist import input_data"
   ]
  },
  {
   "cell_type": "code",
   "execution_count": 13,
   "metadata": {},
   "outputs": [
    {
     "name": "stdout",
     "output_type": "stream",
     "text": [
      "Extracting MNIST_data/train-images-idx3-ubyte.gz\n",
      "Extracting MNIST_data/train-labels-idx1-ubyte.gz\n",
      "Extracting MNIST_data/t10k-images-idx3-ubyte.gz\n",
      "Extracting MNIST_data/t10k-labels-idx1-ubyte.gz\n"
     ]
    }
   ],
   "source": [
    "mnist = input_data.read_data_sets(\"MNIST_data/\", one_hot=True)"
   ]
  },
  {
   "cell_type": "code",
   "execution_count": 14,
   "metadata": {},
   "outputs": [],
   "source": [
    "# Load the numpy data of MNIST into NumpyDataset\n",
    "train = NumpyDataset(mnist.train.images, mnist.train.labels)\n",
    "valid = NumpyDataset(mnist.validation.images, mnist.validation.labels)\n"
   ]
  },
  {
   "cell_type": "code",
   "execution_count": 15,
   "metadata": {},
   "outputs": [],
   "source": [
    "import matplotlib.pyplot as plt"
   ]
  },
  {
   "cell_type": "code",
   "execution_count": 16,
   "metadata": {},
   "outputs": [
    {
     "data": {
      "image/png": "[encoded data removed]",
      "text/plain": [
       "<matplotlib.figure.Figure at 0x7f0d4ab600d0>"
      ]
     },
     "metadata": {},
     "output_type": "display_data"
    }
   ],
   "source": [
    "# Visualize one sample \n",
    "sample = np.reshape(train.X[5], (28, 28))\n",
    "plt.imshow(sample)\n",
    "plt.show()"
   ]
  },
  {
   "cell_type": "markdown",
   "metadata": {},
   "source": [
    "## Numpy Array to tf.data.dataset()\n",
    "This is quite similar to getting a `NumpyDataset` object from numpy arrays."
   ]
  },
  {
   "cell_type": "code",
   "execution_count": 19,
   "metadata": {},
   "outputs": [
    {
     "name": "stdout",
     "output_type": "stream",
     "text": [
      "Data\n",
      "\n",
      "[[0.78574579 0.79398959 0.64737371 0.20447343 0.55009141]\n",
      " [0.39201333 0.12299678 0.69700424 0.57494847 0.59895521]\n",
      " [0.711899   0.22786574 0.6436164  0.49713391 0.31487844]\n",
      " [0.95354154 0.67493395 0.84554228 0.15894518 0.0154379 ]]\n",
      "\n",
      " Labels\n",
      "[0.61605796 0.07695742 0.1084755  0.30322915]\n"
     ]
    }
   ],
   "source": [
    "import tensorflow as tf\n",
    "data_small = np.random.random((4,5))\n",
    "label_small = np.random.random((4,))\n",
    "dataset = tf.data.Dataset.from_tensor_slices((data_small, label_small))\n",
    "print (\"Data\\n\")\n",
    "print (data_small)\n",
    "print (\"\\n Labels\")\n",
    "print (label_small)"
   ]
  },
  {
   "cell_type": "markdown",
   "metadata": {},
   "source": [
    "## Extracting the numpy dataset from tf.data\n",
    "In order to extract the numpy array from the `tf.data`, you first need to define an `iterator` to iterate over the `tf.data.Dataset` object and then in the tensorflow session, run over the iterator to get the data instances. Let's have a look at how it's done."
   ]
  },
  {
   "cell_type": "code",
   "execution_count": 41,
   "metadata": {
    "scrolled": true
   },
   "outputs": [
    {
     "name": "stdout",
     "output_type": "stream",
     "text": [
      "Numpy Data\n",
      "[[0.78574579 0.79398959 0.64737371 0.20447343 0.55009141]\n",
      " [0.39201333 0.12299678 0.69700424 0.57494847 0.59895521]\n",
      " [0.711899   0.22786574 0.6436164  0.49713391 0.31487844]\n",
      " [0.95354154 0.67493395 0.84554228 0.15894518 0.0154379 ]]\n",
      "\n",
      " Numpy Label\n",
      "[0.61605796 0.07695742 0.1084755  0.30322915]\n"
     ]
    }
   ],
   "source": [
    "iterator = dataset.make_one_shot_iterator() # iterator\n",
    "next_element = iterator.get_next()\n",
    "numpy_data = np.zeros((4, 5))\n",
    "numpy_label = np.zeros((4,))\n",
    "sess = tf.Session() # tensorflow session \n",
    "for i in range(4):\n",
    "    data_, label_ = sess.run(next_element) # data_ contains the data and label_ contains the labels that we fed in the previous step\n",
    "    numpy_data[i, :] = data_\n",
    "    numpy_label[i] = label_\n",
    "    \n",
    "print (\"Numpy Data\")\n",
    "print(numpy_data)\n",
    "print (\"\\n Numpy Label\")\n",
    "print(numpy_label)"
   ]
  },
  {
   "cell_type": "markdown",
   "metadata": {},
   "source": [
    "Now that you have the numpy arrays of `data` and `labels`, you can convert it to `NumpyDataset`."
   ]
  },
  {
   "cell_type": "code",
   "execution_count": 52,
   "metadata": {},
   "outputs": [
    {
     "data": {
      "text/plain": [
       "array([[0.78574579, 0.79398959, 0.64737371, 0.20447343, 0.55009141],\n",
       "       [0.39201333, 0.12299678, 0.69700424, 0.57494847, 0.59895521],\n",
       "       [0.711899  , 0.22786574, 0.6436164 , 0.49713391, 0.31487844],\n",
       "       [0.95354154, 0.67493395, 0.84554228, 0.15894518, 0.0154379 ]])"
      ]
     },
     "execution_count": 52,
     "metadata": {},
     "output_type": "execute_result"
    }
   ],
   "source": [
    "dataset_ = NumpyDataset(numpy_data, numpy_label) # convert to NumpyDataset\n",
    "dataset_.X  # printing just to check if the data is same!!"
   ]
  },
  {
   "cell_type": "markdown",
   "metadata": {},
   "source": [
    "## Converting NumpyDataset to `tf.data`\n",
    "This can be easily done by the `make_iterator()` method of `NumpyDataset`. This converts the `NumpyDataset` to `tf.data`. Let's look how it's done!"
   ]
  },
  {
   "cell_type": "code",
   "execution_count": 53,
   "metadata": {},
   "outputs": [
    {
     "name": "stdout",
     "output_type": "stream",
     "text": [
      "Numpy Data\n",
      "[[0.78574579 0.79398959 0.64737371 0.20447343 0.55009141]\n",
      " [0.95354154 0.67493395 0.84554228 0.15894518 0.0154379 ]\n",
      " [0.711899   0.22786574 0.6436164  0.49713391 0.31487844]\n",
      " [0.39201333 0.12299678 0.69700424 0.57494847 0.59895521]]\n",
      "\n",
      " Numpy Label\n",
      "[[0.61605796]\n",
      " [0.30322915]\n",
      " [0.1084755 ]\n",
      " [0.07695742]]\n"
     ]
    }
   ],
   "source": [
    "iterator_ = dataset_.make_iterator() # Using make_iterator for converting NumpyDataset to tf.data\n",
    "next_element_ = iterator_.get_next()\n",
    "\n",
    "sess = tf.Session() # tensorflow session \n",
    "data_and_labels = sess.run(next_element_) # data_ contains the data and label_ contains the labels that we fed in the previous step\n",
    "\n",
    "\n",
    "print (\"Numpy Data\")\n",
    "print(data_and_labels[0])  # Data in the first index \n",
    "print (\"\\n Numpy Label\")\n",
    "print(data_and_labels[1])  # Labels in the second index"
   ]
  },
  {
   "cell_type": "code",
   "execution_count": null,
   "metadata": {},
   "outputs": [],
   "source": []
  },
  {
   "cell_type": "code",
   "execution_count": null,
   "metadata": {},
   "outputs": [],
   "source": []
  }
 ],
 "metadata": {
  "kernelspec": {
   "display_name": "Python 2",
   "language": "python",
   "name": "python2"
  },
  "language_info": {
   "codemirror_mode": {
    "name": "ipython",
    "version": 2
   },
   "file_extension": ".py",
   "mimetype": "text/x-python",
   "name": "python",
   "nbconvert_exporter": "python",
   "pygments_lexer": "ipython2",
   "version": "2.7.14"
  }
 },
 "nbformat": 4,
 "nbformat_minor": 2
}
